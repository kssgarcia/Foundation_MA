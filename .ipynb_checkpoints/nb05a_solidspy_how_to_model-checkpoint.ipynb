{
 "cells": [
  {
   "cell_type": "markdown",
   "metadata": {},
   "source": [
    "# Creación del modelo de SolidsPy"
   ]
  },
  {
   "cell_type": "markdown",
   "metadata": {},
   "source": [
    "## Introducción"
   ]
  },
  {
   "cell_type": "markdown",
   "metadata": {},
   "source": [
    "Este notebook describe el proceso de creación de un modelo para análisis por elementos finitos con `SolidsPy`. El ejemplo cubre la creación de la geometría y la malla del modelo en el programa `Gmsh` y su posterior conversión a archivos de texto listos para ser procesados por `SolidsPy`. Este último paso se realiza con usando funciones de la biblioteca `meshio`.\n",
    "\n",
    "**Al completar este notebook usted debería estar en la capacidad de:**\n",
    "\n",
    "* Identificar la representación de un modelo por elementos finitos en el código abierto `SolidsPy` en términos de archivos de texto plano.\n",
    "\n",
    "* Usar `Gmsh` para crear modelos por elementos finitos de dominios bidimensionales listos para ser procesados por `SolidsPy`.\n",
    "\n",
    "* Escribir los _scripts_ de Python que se requieran para convertir un modelo de `Gmsh` a uno de `SolidsPy`."
   ]
  },
  {
   "cell_type": "markdown",
   "metadata": {},
   "source": [
    "**Nota:** Para poder ejecutar este notebook es necesario tener instalados SolidsPy y las bibliotecas requeridas (ver documentación del programa en [SolidsPy](https://solidspy.readthedocs.io/en/latest/readme.html))."
   ]
  },
  {
   "cell_type": "markdown",
   "metadata": {},
   "source": [
    "## SolidsPy"
   ]
  },
  {
   "cell_type": "markdown",
   "metadata": {},
   "source": [
    "`SolidsPy` es un programa para la realización de análisis de tensiones de dominios con geometrías planas de formas arbitrarias y con materiales elásticos lineales. El programa ha sido creado por Juan Gomez y Nicolas Guarin-Zapata del laboratorio de Mecánica Aplicada de la [Universidad EAFIT](http://www.eafit.edu.co/) para ser usado con propósitos de docencia en las diferentes materias del área de Mecánica Computacional del programa de Ingeniería Civil.\n",
    "\n",
    "Por defecto `SolidsPy` soporta los siguientes tipos de elementos:\n",
    "\n",
    "<center><img src=\"img/elelib.png\" alt=\"files\" style=\"width:600px\"></center>\n",
    "\n",
    "\n",
    "Un modelo de elementos finitos en `SolidsPy` se representa en términos de archivos de texto plano que definen los nodos, elementos, cargas y propiedades de los materiales. El programa se encuentra documentado en [SolidsPy](https://solidspy.readthedocs.io/en/latest/readme.html)."
   ]
  },
  {
   "cell_type": "markdown",
   "metadata": {},
   "source": [
    "## Pasos en la creación de un modelo por elementos finitos en SolidsPy"
   ]
  },
  {
   "cell_type": "markdown",
   "metadata": {},
   "source": [
    "`SolidsPy` permite realizar análisis de tensiones sobre dominios bidimensionales (bajo condiciones de esfuerzo plano) discretizados mediante elementos finitos. El programa usa como datos de entrada, una representación de elementos finitos del sólido, dada en términos de archivos de texto plano en los cuales se define la:\n",
    "\n",
    "* Información de los nudos: Coordenadas espaciales y condiciones de frontera para cada nudo del elemento.\n",
    "\n",
    "* Información de los elementos: Esquema fundamental de interpolación, tipo de material asociado y nudos que definen cada elemento.\n",
    "\n",
    "* Información de cargas: Vector de cargas (definidas en un sistema de referencia cartesiano) e información para cada nodo cargado en el modelo.\n",
    "\n",
    "* Información de los materiales: Módulo de elasticidad y relación de Poisson para cada tipo de material que se use en el modelo.\n",
    "\n",
    "La creación de un modelo en `SolidsPy` implica 2 pasos básicos correspondientes a:\n",
    "\n",
    "1. Mallado del dominio del problema.\n",
    "\n",
    "2. Escritura de archivos de texto conteniendo la malla y la información adicional correspondiente a cargas, materiales y restricciones de desplazamientos.\n",
    "\n",
    "En el caso de dominios con geometrías complejas que impliquen un gran número de elementos el paso **1** se ejecuta con la ayuda de paquetes externos. Acá usaremos  [Gmsh](http://gmsh.info/) para crear mallas de elementos finitos.\n",
    "\n",
    "Si la malla se crea en un paquete externo como `Gmsh`  será necesario reescribir los archivos resultantes del paquete externo en forma de los archivos de texto que puedan ser interpretados por `SolidsPy`. Para esto usaremos subrutinas que han sido creadas usando [meshio](https://github.com/nschloe/meshio). El proceso completo se esquematiza en la siguiente figura.\n",
    "\n",
    "<center><img src=\"img/steps.png\" alt=\"files\" style=\"width:700px\"></center>"
   ]
  },
  {
   "cell_type": "markdown",
   "metadata": {},
   "source": [
    "## Definición del problema"
   ]
  },
  {
   "cell_type": "markdown",
   "metadata": {},
   "source": [
    "El problema a resolver consiste en determinar el tensor de tensiones sobre una placa fabricada de 2 materiales (asumiendo condiciones de deformación plana) y con una carga uniformemente distribuida de intensidad $W$ aplicada sobre la cara superior (ver figura).\n",
    "\n",
    "<center>\n",
    "    <img src=\"img/biplate.png\"\n",
    "         alt=\"Placa bimaterial\"\n",
    "         style=\"width:500px\">\n",
    "</center>\n",
    "\n",
    "Cada material se caracteriza por su relación de Poisson y su modulo de Elasticidad. La cara inferior esta restringida a desplazamientos verticales, mientras que las caras laterales no se pueden desplazar horizontalmente. Estas condiciones se esquematizan mediante los apoyos de rodillos."
   ]
  },
  {
   "cell_type": "markdown",
   "metadata": {},
   "source": [
    "## Creación del modelo"
   ]
  },
  {
   "cell_type": "markdown",
   "metadata": {},
   "source": [
    "En este notebook solo se cubrirá el paso **2** correspondiente a la re-escritura de los archivos de texto asumiendo que el modelo de `Gmsh` ya ha sido creado y que la malla se encuentra disponible para ser procesada. El video adjunto muestra los pasos para la creación del modelo en `Gmsh`.  "
   ]
  },
  {
   "cell_type": "code",
   "execution_count": null,
   "metadata": {},
   "outputs": [],
   "source": [
    "from IPython.display import YouTubeVideo\n",
    "YouTubeVideo('ibeIKaSYG2U', width=600, height=450)"
   ]
  },
  {
   "cell_type": "markdown",
   "metadata": {},
   "source": [
    "En `Gmsh` un modelo se define mediante la combinación de **objetos geométricos** de diferente jerarquía. En el caso de dominios planos estos se resumen en:\n",
    "\n",
    "* Puntos.\n",
    "* Lineas: Formadas por la unión de puntos.\n",
    "* Superficies planas (o circuitos de lineas): Formadas mediante la combinación de varias líneas.\n",
    "\n",
    "El proceso se ilustra en la siguiente figura. Nótese que las lineas se encuentran orientadas en la dirección indicada por la flecha en cada caso. Similarmente, las superficies planas se encuentran orientadas. En el caso del ejemplo la orientación de las superficies es en sentido anti-horario. Es necesario respetar esta orientación ya que la misma se asume en la codificación de los elementos en `SolidsPy`."
   ]
  },
  {
   "cell_type": "markdown",
   "metadata": {},
   "source": [
    "<center><img src=\"img/geometric.png\" alt=\"files\" style=\"width:600px\"></center>"
   ]
  },
  {
   "cell_type": "markdown",
   "metadata": {},
   "source": [
    "<div class=\"alert alert-warning\">\n",
    "    \n",
    "La definición de un modelo por elementos finitos en `Gmsh` implica 2 pasos:\n",
    "\n",
    "1. La definición de la geometría del dominio, la cual queda almacenada en un archivo de extensión `.geo`.\n",
    "\n",
    "2. El mallado o partición de la geometría del dominio en elementos finitos definidos por nudos. Esta información queda almacenada en un archivo con extensión `.msh`. \n",
    "\n",
    "</div>"
   ]
  },
  {
   "cell_type": "markdown",
   "metadata": {},
   "source": [
    "El software de mallado, en este caso `Gmsh`, solamente divide el dominio de computación en elementos finitos definidos por puntos (o nodos). Por lo tanto el modelo resultante aún no tiene información relativa a las condiciones de frontera o a los materiales de los diferentes elementos y esta información tiene que definirse mediante operaciones posteriores.\n",
    "\n",
    "Para facilitar estas operaciones sobre las diferentes partes del modelo requeridas para el análisis por elementos finitos `Gmsh` permite la definición de grupos o conjuntos de **objetos geométricos** a los cuales denomina como **objetos físicos**. En otras palabras, un **objeto físico** no es otra cosa que un conjunto especial de **objetos geométricos**.\n",
    "\n",
    "Los **objetos físicos** son útiles a la hora de definir las cargas aplicadas sobre lineas especificas del modelo, o de asignar propiedades de material a las diferentes partes del dominio como también en la definición de las restricciones del desplazamiento sobre grupos específicos de nodos.\n",
    "\n",
    "La figura presenta los **objetos físicos** para el ejemplo.\n",
    "\n",
    "<center>\n",
    "    <img src=\"img/phys_OBJ.png\" alt=\"files\" style=\"width:600px\">\n",
    "</center>\n",
    "\n",
    "Nótese que cada grupo de **objetos físico** es nombrado mediante un numéro entero. La linea física **500**  define la cara superior del modelo en la cual se aplicará la carga uniforme; la linea física **300** agrupa las caras laterales donde se restrinigirá la componente horizontal del desplazamiento; la linea física **400** define la cara inferior sobre la que se restringirán los desplazamientos verticales. De manera similar, las superficies físicas **100** y **200** definen las regiones del modelo sobre las cuales se asignarán propiedades de material 1 y 2 respectivamente."
   ]
  },
  {
   "cell_type": "markdown",
   "metadata": {},
   "source": [
    "<div class=\"alert alert-warning\">\n",
    "Las definciones de los objetos físicos se realizan directamente durante la generación del modelo geométrico en gmsh. Estas quedan declaradas en el archivo con extensión .geo. Posteriormente, y una vez creada la malla, gmsh asigna esta información a los nudos y elementos que perenezcan a los objetos físicos previamente definidos.    \n",
    "</div>"
   ]
  },
  {
   "cell_type": "markdown",
   "metadata": {},
   "source": [
    "## Re-escritura de los archivos de Gmsh a archivos de texto para SolidsPy"
   ]
  },
  {
   "cell_type": "markdown",
   "metadata": {},
   "source": [
    "Una vez creada la malla, la información de nudos, lineas, elementos y otras entidades geométricas serán asociadas a los diferentes **objetos físicos** para facilitar su interpretación por medio de subrutinas externas. En `SolidsPy` un modelo de elementos finitos se define en términos de 4 archivos de texto: `nodes.txt`, `eles.txt`, `loads.txt`y `mater.txt`. la creación de estos archivos a partir del modelo de `Gmsh` se esquematiza en la figura.\n",
    "\n",
    "**Nota:** La estructura de los archivos de entrada usados por SolidsPy se describe para el caso de un problema simple de un  [cuadrado](https://solidspy.readthedocs.io/en/latest/tutorials/square_example.html) conformado por 4 elementos finitos."
   ]
  },
  {
   "cell_type": "markdown",
   "metadata": {},
   "source": [
    "<center><img src=\"img/conversion.png\" alt=\"files\" style=\"width:700px\"></center>"
   ]
  },
  {
   "cell_type": "markdown",
   "metadata": {},
   "source": [
    "Para realizar la conversión de Gmsh a SolidsPy es necesario escribir un script para cada problema. El script se basa en subrutinas disponibles en el modulo de pre-procesado de SolidsPy. Estas rutinas interpretan el modelo de Gmsh utilizando los nombres asignados para los diferentes **objetos físicos.** Las rutinas se resumen en:\n",
    "\n",
    "* `node_writer`: Esta función regresa un arreglo llamado `nodes_array` listo para ser escrito en el archivo de nudos `nodes.txt` de SolidsPy.\n",
    "\n",
    "* `boundary_conditions`: Manipula cada linea física donde se impondrán condiciones de frontera.\n",
    "\n",
    "* `loading`: Esta subrutina usa las magnitudes de las cargas a lo largo de las direcciones $x$ y $y$ definidas por los parámetros $P_x$ y $P_y$ y divide la fuerza resultante por el número de nodos que pertenecen a la **línea física**.\n",
    "\n",
    "* `ele_writer`: Esta se usa para escribir los archivos de texto con la información de los elementos. La subrutina debe ser usada tantas veces como superficies físicas tenga el modelo para asignar los tipos de material correspondientes a los elementos sobre la superficie."
   ]
  },
  {
   "cell_type": "markdown",
   "metadata": {},
   "source": [
    "El siguiente bloque de código importa los modulos necesarios. En particular note que se importan los modulos de preprocesado y el modulo externo meshio sobre el cual se escriben las subrutinas del pre-procesador."
   ]
  },
  {
   "cell_type": "code",
   "execution_count": null,
   "metadata": {},
   "outputs": [],
   "source": [
    "import numpy as np  \n",
    "import matplotlib.pyplot as plt\n",
    "import meshio                         # modulo para procesamiento de la malla\n",
    "import solidspy.preprocesor as msh    # modulo de pre-procesado de solidspy."
   ]
  },
  {
   "cell_type": "code",
   "execution_count": null,
   "metadata": {},
   "outputs": [],
   "source": [
    "%matplotlib notebook"
   ]
  },
  {
   "cell_type": "markdown",
   "metadata": {},
   "source": [
    "El siguiente bloque lee la malla y la convierte en el objeto **mesh.** Posteriormente, en las 4 lineas que le siguen se forman los diccionarios points, cells, point_data, cell_data y field_data."
   ]
  },
  {
   "cell_type": "code",
   "execution_count": null,
   "metadata": {},
   "outputs": [],
   "source": [
    "mesh       = meshio.read(\"files/plantilla.msh\")   # Leer malla de gmsh\n",
    "points     = mesh.points\n",
    "cells      = mesh.cells\n",
    "point_data = mesh.point_data\n",
    "cell_data  = mesh.cell_data\n",
    "field_data = mesh.field_data"
   ]
  },
  {
   "cell_type": "markdown",
   "metadata": {},
   "source": [
    "<div class=\"alert alert-warning\">\n",
    "Imprima los diccionarios `points`, `cells` y `cell_data` e identifique los nombres asignados a los grupos físicos.\n",
    "</div>"
   ]
  },
  {
   "cell_type": "markdown",
   "metadata": {},
   "source": [
    "En la linea que sigue se usa la rutina `node_writer()` para extraer del diccionario points la información nodal y almacenarla en el arreglo de numpy `nodes_array`."
   ]
  },
  {
   "cell_type": "code",
   "execution_count": null,
   "metadata": {},
   "outputs": [],
   "source": [
    "nodes_array = msh.node_writer(points, point_data)"
   ]
  },
  {
   "cell_type": "code",
   "execution_count": null,
   "metadata": {},
   "outputs": [],
   "source": [
    "nodes_array = msh.boundary_conditions(cells, cell_data, 200, nodes_array, -1 , 0)"
   ]
  },
  {
   "cell_type": "code",
   "execution_count": null,
   "metadata": {},
   "outputs": [],
   "source": [
    "nodes_array = msh.boundary_conditions(cells, cell_data, 100, nodes_array, 0  , -1)"
   ]
  },
  {
   "cell_type": "markdown",
   "metadata": {},
   "source": [
    "La rutina de procesado de elementos `ele_writer()` tiene como parametros de entrada los diccionarios cells y cell_data para escribir los arreglos de elementos. En esta llamada se indica que los elementos corresponden a triangulos lineales tal y como lo indica la palabra clave de **gmsh** `triangle`. Estos elementos pertencen a la superficie física identificada por el nombre $100$. El entero $3$ en este caso es el indice de tipo de elemento de acuerdo a la nomenclatura de **SolidsPy**. El penultimo campo correspondiente a $0$ indica que esta superficie tendrá asignado el perfil de material $0$. Finalmente el parametro entero $0$ es el primer numero de elemento para esta superficie en el archivo de **SolidsPy**. La rutina entrega tras su ejecución un arreglo de numpy, en este caso, almacenando la información de los elementos de la superficie física $100$. Adicioanalmente entrega el numéro de elementos asignados a esta superficie. Este parametro se usa para inciar el conteo de elementos en la siguiente superficie."
   ]
  },
  {
   "cell_type": "code",
   "execution_count": null,
   "metadata": {},
   "outputs": [],
   "source": [
    "nf, els1_array = msh.ele_writer(cells, cell_data, \"triangle\", 2000, 3 , 0, 0)"
   ]
  },
  {
   "cell_type": "markdown",
   "metadata": {},
   "source": [
    "La siguiente superfice de elementos a procesar corresponde a la identificada como superficie física $200$, también de elementos triangulares, con perfil de material tipo $1$ e iniciando el conteo de acuerdo con el valor inicial nini = nfin, donde nfin es el valor arrojado por la última superficie procesada."
   ]
  },
  {
   "cell_type": "code",
   "execution_count": null,
   "metadata": {},
   "outputs": [],
   "source": [
    "nini = nf\n",
    "nf, els2_array = msh.ele_writer(cells, cell_data, \"triangle\", 1000, 3 , 1 , nini)"
   ]
  },
  {
   "cell_type": "markdown",
   "metadata": {},
   "source": [
    "Una vez generados los 2 arreglos de elementos correspondientes a las superficies $100$ y $200$ estos deben ser concatenados en uno solo arreglo `els_array`  para posteriormente imprimirlos en el archivo de texto."
   ]
  },
  {
   "cell_type": "code",
   "execution_count": null,
   "metadata": {},
   "outputs": [],
   "source": [
    "els_array = np.append(els1_array, els2_array, axis=0)"
   ]
  },
  {
   "cell_type": "markdown",
   "metadata": {},
   "source": [
    "El siguiente punto en la creación del modelo se imponen las restricciones de desplazamiento sobre las caras $300$ (caras laterales) y $400$ cara del fondo. La función `boundary_conditions()` impone estas condiciones aplicando valores de $-1$ a los nudos de las lineas que representan estas caras sobre los grados de libertad correspondientes."
   ]
  },
  {
   "cell_type": "markdown",
   "metadata": {},
   "source": [
    "Finalmente la rutina `loading()` identifica los nudos sobre la linea física $500$ e impone la carga $W = -2.0$. Esta es distribuida entre todos los nudos de la linea de manera que su resultante se mantiene constante."
   ]
  },
  {
   "cell_type": "code",
   "execution_count": null,
   "metadata": {},
   "outputs": [],
   "source": [
    "cargas = msh.loading(cells, cell_data, 300 , 0.0 , -2.0)"
   ]
  },
  {
   "cell_type": "code",
   "execution_count": null,
   "metadata": {},
   "outputs": [],
   "source": [
    "np.savetxt(\"files/Meles.txt\" , els_array, fmt=\"%d\")\n",
    "np.savetxt(\"files/Mloads.txt\", cargas, fmt=(\"%d\", \"%.6f\", \"%.6f\"))\n",
    "np.savetxt(\"files/Mnodes.txt\", nodes_array , fmt=(\"%d\", \"%.4f\", \"%.4f\", \"%d\", \"%d\"))"
   ]
  },
  {
   "cell_type": "markdown",
   "metadata": {},
   "source": [
    "La figura hace una descripción gráfica de las rutina de generación de los archivos de entrada para SolidsPy.\n",
    "\n",
    "\n",
    "<center>\n",
    "    <img src=\"img/grafdescr.png\"\n",
    "         alt=\"files\"\n",
    "         style=\"width:700px\">\n",
    "</center>"
   ]
  },
  {
   "cell_type": "code",
   "execution_count": null,
   "metadata": {},
   "outputs": [],
   "source": [
    "def readin():\n",
    "    nodes    = np.loadtxt('files/Mnodes.txt', ndmin=2)\n",
    "    mats     = np.loadtxt('files/Mmater.txt', ndmin=2)\n",
    "    elements = np.loadtxt('files/Meles.txt', ndmin=2, dtype=int)\n",
    "    loads    = np.loadtxt('files/Mloads.txt', ndmin=2)\n",
    "    return nodes, mats, elements, loads"
   ]
  },
  {
   "cell_type": "code",
   "execution_count": null,
   "metadata": {},
   "outputs": [],
   "source": [
    "nodes, mats, elements, loads = readin()\n",
    "nodes"
   ]
  },
  {
   "cell_type": "markdown",
   "metadata": {},
   "source": [
    "<div class=\"alert alert-warning\">\n",
    "    \n",
    "* Verifique que los archivos de texto han sido creados en la carpeta files.\n",
    "    \n",
    "* Imprima los arreglos de nudos, elementos y cargas e identifique su estructura.\n",
    "</div>"
   ]
  },
  {
   "cell_type": "markdown",
   "metadata": {},
   "source": [
    "### Glosario de términos\n",
    "\n",
    "**Gmsh:** Mallador libre por elementos finitos para dominios planos y tridimensionales.\n",
    "\n",
    "**Objetos geométricos:** Entidades geomeéricas organizadas de manera jerárquica (puntos, lineas, superficies) usadas en la construcción de dominios computacionales en Gmsh.\n",
    "\n",
    "**Objetos físicos:** Grupos específicos de objetos definidos dentro de Gmsh y usados para facilitar posteriores operaciones requeridas en la creación de un modelo por elementos finitos.\n",
    "\n",
    "**meshio:** Biblioteca de Python desarrollada por [Nico Schlomer](https://github.com/nschloe) y disponibles en [meshio](https://github.com/nschloe/meshio), útil para ejecutar operaciones de lectura/escritura entre varios formatos de mallas inlcuyendo Gmsh.\n",
    "\n",
    "**Script de mallado:** Script de Python desarrolada para cada modelo y usada para \"traducir\" modelos de Gmsh a modelos de SolidsPy. Para escribir el script se usan funciones de meshio."
   ]
  },
  {
   "cell_type": "markdown",
   "metadata": {},
   "source": [
    "## Referencias"
   ]
  },
  {
   "cell_type": "markdown",
   "metadata": {},
   "source": [
    "* Juan Gómez, Nicolás Guarín-Zapata (2018). SolidsPy: 2D-Finite Element Analysis with Python, <https://github.com/AppliedMechanics-EAFIT/SolidsPy>.\n",
    "\n",
    "* Nico Schlömer, Geordie McBain, Tianyi Li, Vicente Mataix Ferrándiz, eolianoe, Lisandro Dalcin, … Abhinav Gupta. (2019, May 10). nschloe/meshio: 2.3.7 (Version v2.3.7). Zenodo <https://github.com/nschloe/meshio>\n",
    "\n",
    "* C. Geuzaine and J.-F. Remacle. Gmsh: a three-dimensional finite element mesh generator with built-in pre- and post-processing facilities. International Journal for Numerical Methods in Engineering 79(11), pp. 1309-1331, 2009."
   ]
  },
  {
   "cell_type": "markdown",
   "metadata": {},
   "source": [
    "## Formato del notebook"
   ]
  },
  {
   "cell_type": "markdown",
   "metadata": {},
   "source": [
    "La siguiente celda cambia el formato del Notebook."
   ]
  },
  {
   "cell_type": "code",
   "execution_count": null,
   "metadata": {},
   "outputs": [],
   "source": [
    "from IPython.core.display import HTML\n",
    "def css_styling():\n",
    "    styles = open('estilo.css', 'r').read()\n",
    "    return HTML(styles)\n",
    "css_styling()"
   ]
  },
  {
   "cell_type": "code",
   "execution_count": null,
   "metadata": {},
   "outputs": [],
   "source": []
  }
 ],
 "metadata": {
  "celltoolbar": "Raw Cell Format",
  "kernelspec": {
   "display_name": "Python 3 (ipykernel)",
   "language": "python",
   "name": "python3"
  },
  "language_info": {
   "codemirror_mode": {
    "name": "ipython",
    "version": 3
   },
   "file_extension": ".py",
   "mimetype": "text/x-python",
   "name": "python",
   "nbconvert_exporter": "python",
   "pygments_lexer": "ipython3",
   "version": "3.9.12"
  },
  "varInspector": {
   "cols": {
    "lenName": 16,
    "lenType": 16,
    "lenVar": 40
   },
   "kernels_config": {
    "python": {
     "delete_cmd_postfix": "",
     "delete_cmd_prefix": "del ",
     "library": "var_list.py",
     "varRefreshCmd": "print(var_dic_list())"
    },
    "r": {
     "delete_cmd_postfix": ") ",
     "delete_cmd_prefix": "rm(",
     "library": "var_list.r",
     "varRefreshCmd": "cat(var_dic_list()) "
    }
   },
   "types_to_exclude": [
    "module",
    "function",
    "builtin_function_or_method",
    "instance",
    "_Feature"
   ],
   "window_display": false
  }
 },
 "nbformat": 4,
 "nbformat_minor": 1
}
